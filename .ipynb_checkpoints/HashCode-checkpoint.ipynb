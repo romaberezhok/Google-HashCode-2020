{
 "cells": [
  {
   "cell_type": "code",
   "execution_count": 84,
   "metadata": {},
   "outputs": [],
   "source": [
    "import numpy as np"
   ]
  },
  {
   "cell_type": "markdown",
   "metadata": {},
   "source": [
    "#### Define a class"
   ]
  },
  {
   "cell_type": "code",
   "execution_count": 85,
   "metadata": {},
   "outputs": [],
   "source": [
    "class Library:\n",
    "    def __init__(self, books_num, sign_up, per_day, books_id):\n",
    "        self.books_num = books_num\n",
    "        self.sign_up = sign_up\n",
    "        self.per_day = per_day\n",
    "        self.books_id = books_id\n",
    "        \n",
    "    def set_books_to_scan(self, amount):\n",
    "        self.books_to_scan = self.books_id[:amount]"
   ]
  },
  {
   "cell_type": "markdown",
   "metadata": {},
   "source": [
    "#### Read data"
   ]
  },
  {
   "cell_type": "code",
   "execution_count": 86,
   "metadata": {},
   "outputs": [],
   "source": [
    "def read_line(f):\n",
    "    values = [int(el) for el in f.readline().strip().split(' ')]\n",
    "    return values"
   ]
  },
  {
   "cell_type": "code",
   "execution_count": 87,
   "metadata": {},
   "outputs": [],
   "source": [
    "def sort_ids_by_scores():\n",
    "    for library in LIBRARIES:\n",
    "        library.books_id = sorted(library.books_id, key=lambda x: SCORES[ALL_IDS.index(x)])"
   ]
  },
  {
   "cell_type": "code",
   "execution_count": 88,
   "metadata": {},
   "outputs": [],
   "source": [
    "LIBRARIES = []\n",
    "SCORES = []\n",
    "ALL_IDS = set()\n",
    "DEADLINE = None\n",
    "SUBMISSION = ''\n",
    "\n",
    "with open('a_example.txt') as f:\n",
    "    books_num, libraries, DEADLINE = read_line(f)\n",
    "    SCORES = read_line(f)\n",
    "    \n",
    "    for i in range(libraries):\n",
    "        lib_books, sign_up, per_day = read_line(f)\n",
    "        books_id = read_line(f)\n",
    "        ALL_IDS.update(set(books_id))\n",
    "        \n",
    "        library = Library(lib_books, sign_up, per_day, books_id)\n",
    "        LIBRARIES.append(library)\n",
    "        \n",
    "ALL_IDS = sorted(list(ALL_IDS))\n",
    "sort_ids_by_scores()"
   ]
  },
  {
   "cell_type": "code",
   "execution_count": 89,
   "metadata": {},
   "outputs": [],
   "source": [
    "def calc_max_scores(library):\n",
    "    capacity = (DEADLINE - library.sign_up) * library.per_day\n",
    "    real_books_to_scan = min(capacity, library.books_num)\n",
    "    library.set_books_to_scan(real_books_to_scan)\n",
    "    \n",
    "    summ = 0\n",
    "    for book_id in library.books_to_scan:\n",
    "        summ += SCORES[ALL_IDS.index(book_id)]\n",
    "    \n",
    "    return summ"
   ]
  },
  {
   "cell_type": "code",
   "execution_count": 90,
   "metadata": {},
   "outputs": [],
   "source": [
    "def find_max_score_library_index(libraries):\n",
    "    summs = np.array([])\n",
    "    for library in libraries:\n",
    "        if library is None:\n",
    "            continue\n",
    "        summ = calc_max_scores(library)\n",
    "        summs = np.append(summs, summ)\n",
    "        \n",
    "    max_score_library_id = np.argmax(summs)\n",
    "    \n",
    "    return max_score_library_id "
   ]
  },
  {
   "cell_type": "code",
   "execution_count": 98,
   "metadata": {},
   "outputs": [],
   "source": [
    "def add_library_result_to_submission(library_id):\n",
    "    books_id = [str(i) for i in LIBRARIES[library_id].books_to_scan]\n",
    "    result = '{} {}\\n{}\\n'.format(library_id, len(LIBRARIES[library_id].books_to_scan), ' '.join(books_id))\n",
    "                       \n",
    "    SUBMISSION += result\n",
    "    "
   ]
  },
  {
   "cell_type": "code",
   "execution_count": null,
   "metadata": {},
   "outputs": [],
   "source": []
  }
 ],
 "metadata": {
  "kernelspec": {
   "display_name": "Python 3",
   "language": "python",
   "name": "python3"
  },
  "language_info": {
   "codemirror_mode": {
    "name": "ipython",
    "version": 3
   },
   "file_extension": ".py",
   "mimetype": "text/x-python",
   "name": "python",
   "nbconvert_exporter": "python",
   "pygments_lexer": "ipython3",
   "version": "3.7.4"
  }
 },
 "nbformat": 4,
 "nbformat_minor": 2
}
