{
 "cells": [
  {
   "cell_type": "code",
   "execution_count": 64,
   "metadata": {},
   "outputs": [],
   "source": [
    "class Library:\n",
    "    def __init__(self, books_num, sign_up, scan, books_id):\n",
    "        self.books_num = books_num\n",
    "        self.sign_up = sign_up\n",
    "        self.scan = scan\n",
    "        self.books_id = books_id"
   ]
  },
  {
   "cell_type": "code",
   "execution_count": 65,
   "metadata": {},
   "outputs": [],
   "source": [
    "def read_line(f):\n",
    "    values = [int(el) for el in f.readline().strip().split(' ')]\n",
    "    return values"
   ]
  },
  {
   "cell_type": "code",
   "execution_count": 67,
   "metadata": {},
   "outputs": [],
   "source": [
    "LIBRARIES = []\n",
    "ALL_IDS = set()\n",
    "\n",
    "with open('a_example.txt') as f:\n",
    "    books_num, libraries, deadline = read_line(f)\n",
    "    scores = read_line(f)\n",
    "    \n",
    "    for i in range(libraries):\n",
    "        lib_books, sign_up, scan = read_line(f)\n",
    "        books_id = read_line(f)\n",
    "        ALL_IDS.update(set(books_id))\n",
    "        \n",
    "        library = Library(lib_books, sign_up, scan, books_id)\n",
    "        LIBRARIES.append(library)"
   ]
  },
  {
   "cell_type": "code",
   "execution_count": 68,
   "metadata": {},
   "outputs": [],
   "source": [
    "ALL_IDS = list(ALL_IDS) "
   ]
  },
  {
   "cell_type": "code",
   "execution_count": 69,
   "metadata": {},
   "outputs": [
    {
     "data": {
      "text/plain": [
       "[1, 2, 3, 6, 5, 4]"
      ]
     },
     "execution_count": 69,
     "metadata": {},
     "output_type": "execute_result"
    }
   ],
   "source": [
    "scores"
   ]
  },
  {
   "cell_type": "code",
   "execution_count": 53,
   "metadata": {},
   "outputs": [],
   "source": [
    "def max_sums(libraries):\n",
    "    summs = []\n",
    "    for library in libraries:\n",
    "        summ = 0\n",
    "        for idx in library.books_id:\n",
    "            summ += scores[ALL_IDS.index(idx)]\n",
    "        summs.append(summ)\n",
    "    return summs"
   ]
  },
  {
   "cell_type": "code",
   "execution_count": 54,
   "metadata": {},
   "outputs": [],
   "source": [
    "sums = max_sums(LIBRARIES)"
   ]
  },
  {
   "cell_type": "code",
   "execution_count": 63,
   "metadata": {},
   "outputs": [],
   "source": [
    "for library in LIBRARIES:\n",
    "    library.books_id = sorted(library.books_id, key=lambda x: scores[ALL_IDS.index(x)])"
   ]
  },
  {
   "cell_type": "code",
   "execution_count": null,
   "metadata": {},
   "outputs": [],
   "source": [
    "for "
   ]
  }
 ],
 "metadata": {
  "kernelspec": {
   "display_name": "Python 3",
   "language": "python",
   "name": "python3"
  },
  "language_info": {
   "codemirror_mode": {
    "name": "ipython",
    "version": 3
   },
   "file_extension": ".py",
   "mimetype": "text/x-python",
   "name": "python",
   "nbconvert_exporter": "python",
   "pygments_lexer": "ipython3",
   "version": "3.7.4"
  }
 },
 "nbformat": 4,
 "nbformat_minor": 2
}
