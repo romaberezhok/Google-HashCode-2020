{
 "cells": [
  {
   "cell_type": "code",
   "execution_count": 1,
   "metadata": {},
   "outputs": [],
   "source": [
    "import numpy as np"
   ]
  },
  {
   "cell_type": "markdown",
   "metadata": {},
   "source": [
    "#### Define a class"
   ]
  },
  {
   "cell_type": "code",
   "execution_count": 15,
   "metadata": {},
   "outputs": [],
   "source": [
    "class Library:\n",
    "    \n",
    "    \n",
    "    def __init__(self, books_num, sign_up, per_day, books_id):\n",
    "        self.books_num = books_num\n",
    "        self.sign_up = sign_up\n",
    "        self.per_day = per_day\n",
    "        self.books_id = books_id\n",
    "        \n",
    "    def set_books_to_scan(self, amount):\n",
    "        self.books_to_scan = self.books_id[:amount]\n",
    "    \n",
    "    def remove_scanned_books(self, scanned_books):\n",
    "        for idx in books_id:\n",
    "            if idx in scanned_books:\n",
    "                self.books_id.remove(idx)"
   ]
  },
  {
   "cell_type": "markdown",
   "metadata": {},
   "source": [
    "#### Read data"
   ]
  },
  {
   "cell_type": "code",
   "execution_count": 16,
   "metadata": {},
   "outputs": [],
   "source": [
    "def read_line(f):\n",
    "    values = [int(el) for el in f.readline().strip().split(' ')]\n",
    "    return values"
   ]
  },
  {
   "cell_type": "code",
   "execution_count": 17,
   "metadata": {},
   "outputs": [],
   "source": [
    "def sort_ids_by_scores():\n",
    "    for library in LIBRARIES:\n",
    "        library.books_id = sorted(library.books_id, key=lambda x: SCORES[ALL_IDS.index(x)])"
   ]
  },
  {
   "cell_type": "code",
   "execution_count": 32,
   "metadata": {},
   "outputs": [],
   "source": [
    "def read_file(name):\n",
    "    with open(name) as f:\n",
    "        books_num, libraries, DEADLINE = read_line(f)\n",
    "        SCORES = read_line(f)\n",
    "    \n",
    "        for i in range(libraries):\n",
    "            lib_books, sign_up, per_day = read_line(f)\n",
    "            books_id = read_line(f)\n",
    "            ALL_IDS.update(set(books_id))\n",
    "\n",
    "            library = Library(lib_books, sign_up, per_day, books_id)\n",
    "            LIBRARIES.append(library)"
   ]
  },
  {
   "cell_type": "code",
   "execution_count": 19,
   "metadata": {},
   "outputs": [],
   "source": [
    "# LIBRARIES = []\n",
    "# SCORES = []\n",
    "# ALL_IDS = set()\n",
    "# DEADLINE = None\n",
    "# SUBMISSION = ''\n",
    "\n",
    "# with open('a_example.txt') as f:\n",
    "#     books_num, libraries, DEADLINE = read_line(f)\n",
    "#     SCORES = read_line(f)\n",
    "    \n",
    "#     for i in range(libraries):\n",
    "#         lib_books, sign_up, per_day = read_line(f)\n",
    "#         books_id = read_line(f)\n",
    "#         ALL_IDS.update(set(books_id))\n",
    "        \n",
    "#         library = Library(lib_books, sign_up, per_day, books_id)\n",
    "#         LIBRARIES.append(library)\n",
    "        \n",
    "# ALL_IDS = sorted(list(ALL_IDS))\n",
    "# sort_ids_by_scores()"
   ]
  },
  {
   "cell_type": "code",
   "execution_count": 20,
   "metadata": {},
   "outputs": [],
   "source": [
    "def sort_id(ids):\n",
    "    ids = sorted(list(ids))\n",
    "    sort_ids_by_scores()"
   ]
  },
  {
   "cell_type": "code",
   "execution_count": 21,
   "metadata": {},
   "outputs": [],
   "source": [
    "def calc_max_scores(library):\n",
    "    capacity = (DEADLINE - library.sign_up) * library.per_day\n",
    "    if capacity <= 0:\n",
    "        return\n",
    "    \n",
    "    real_books_to_scan = min(capacity, library.books_num)\n",
    "    library.set_books_to_scan(real_books_to_scan)\n",
    "    \n",
    "    summ = 0\n",
    "    for book_id in library.books_to_scan:\n",
    "        summ += SCORES[ALL_IDS.index(book_id)]\n",
    "    print(summ)\n",
    "    \n",
    "    return summ"
   ]
  },
  {
   "cell_type": "code",
   "execution_count": 22,
   "metadata": {},
   "outputs": [],
   "source": [
    "def find_max_score_library_index(libraries):\n",
    "    summs = np.array([])\n",
    "    for library in libraries:\n",
    "        if library is None:\n",
    "            continue\n",
    "        summ = calc_max_scores(library)\n",
    "        summs = np.append(summs, summ)\n",
    "        \n",
    "    if len(summs) == 0:\n",
    "        return -1\n",
    "        \n",
    "    max_score_library_id = np.argmax(summs)\n",
    "    \n",
    "    return max_score_library_id "
   ]
  },
  {
   "cell_type": "code",
   "execution_count": 23,
   "metadata": {},
   "outputs": [],
   "source": [
    "def add_library_result_to_submission(library_id):\n",
    "    books_id = [str(i) for i in LIBRARIES[library_id].books_to_scan]\n",
    "    result = '{} {}\\n{}\\n'.format(library_id, len(LIBRARIES[library_id].books_to_scan), ' '.join(books_id))\n",
    "                       \n",
    "    SUBMISSION += result\n",
    "    "
   ]
  },
  {
   "cell_type": "code",
   "execution_count": 24,
   "metadata": {},
   "outputs": [],
   "source": [
    "def remove_scanned_books(scanned_books):\n",
    "    for library in Libraries:\n",
    "        if library is None:\n",
    "            continue\n",
    "        library.remove_scanned_books(scanned_books)"
   ]
  },
  {
   "cell_type": "code",
   "execution_count": 25,
   "metadata": {},
   "outputs": [],
   "source": [
    "def decrease_deadline(library_id):\n",
    "    DEADLINE -= LIBRARIES[library_id].sign_up "
   ]
  },
  {
   "cell_type": "code",
   "execution_count": 26,
   "metadata": {},
   "outputs": [],
   "source": [
    "def remove_used_library(library_id):\n",
    "    LIBRARIES[library_id] = None"
   ]
  },
  {
   "cell_type": "code",
   "execution_count": 33,
   "metadata": {},
   "outputs": [
    {
     "ename": "TypeError",
     "evalue": "read_file() takes 1 positional argument but 2 were given",
     "output_type": "error",
     "traceback": [
      "\u001b[0;31m---------------------------------------------------------------------------\u001b[0m",
      "\u001b[0;31mTypeError\u001b[0m                                 Traceback (most recent call last)",
      "\u001b[0;32m<ipython-input-33-3f3cddb2c22b>\u001b[0m in \u001b[0;36m<module>\u001b[0;34m\u001b[0m\n\u001b[1;32m     21\u001b[0m \u001b[0;34m\u001b[0m\u001b[0m\n\u001b[1;32m     22\u001b[0m \u001b[0;32mif\u001b[0m \u001b[0m__name__\u001b[0m \u001b[0;34m==\u001b[0m \u001b[0;34m'__main__'\u001b[0m\u001b[0;34m:\u001b[0m\u001b[0;34m\u001b[0m\u001b[0;34m\u001b[0m\u001b[0m\n\u001b[0;32m---> 23\u001b[0;31m     \u001b[0mmain\u001b[0m\u001b[0;34m(\u001b[0m\u001b[0;34m)\u001b[0m\u001b[0;34m\u001b[0m\u001b[0;34m\u001b[0m\u001b[0m\n\u001b[0m",
      "\u001b[0;32m<ipython-input-33-3f3cddb2c22b>\u001b[0m in \u001b[0;36mmain\u001b[0;34m()\u001b[0m\n\u001b[1;32m      6\u001b[0m     \u001b[0mSUBMISSION\u001b[0m \u001b[0;34m=\u001b[0m \u001b[0;34m''\u001b[0m\u001b[0;34m\u001b[0m\u001b[0;34m\u001b[0m\u001b[0m\n\u001b[1;32m      7\u001b[0m \u001b[0;34m\u001b[0m\u001b[0m\n\u001b[0;32m----> 8\u001b[0;31m     \u001b[0mread_file\u001b[0m\u001b[0;34m(\u001b[0m\u001b[0;34m'a_example.txt'\u001b[0m\u001b[0;34m,\u001b[0m \u001b[0mALL_IDS\u001b[0m\u001b[0;34m)\u001b[0m\u001b[0;34m\u001b[0m\u001b[0;34m\u001b[0m\u001b[0m\n\u001b[0m\u001b[1;32m      9\u001b[0m     \u001b[0msort_id\u001b[0m\u001b[0;34m(\u001b[0m\u001b[0mALL_IDS\u001b[0m\u001b[0;34m)\u001b[0m\u001b[0;34m\u001b[0m\u001b[0;34m\u001b[0m\u001b[0m\n\u001b[1;32m     10\u001b[0m \u001b[0;34m\u001b[0m\u001b[0m\n",
      "\u001b[0;31mTypeError\u001b[0m: read_file() takes 1 positional argument but 2 were given"
     ]
    }
   ],
   "source": [
    "def main():\n",
    "    LIBRARIES = []\n",
    "    SCORES = []\n",
    "    ALL_IDS = set()\n",
    "    DEADLINE = None\n",
    "    SUBMISSION = ''\n",
    "    \n",
    "    read_file('a_example.txt', ALL_IDS)\n",
    "    sort_id(ALL_IDS)\n",
    "    \n",
    "    while DEADLINE > 0:\n",
    "        \n",
    "        max_score_id = find_max_score_library_index(LIBRARIES)\n",
    "        add_library_result_to_submission(max_score_id)\n",
    "        remove_scanned_books(LIBRARIES[max_score_id].books_to_scan)\n",
    "        decrease_deadline(max_score_id)\n",
    "        remove_used_library(max_score_id)\n",
    "        print(SUBMISSION)\n",
    "        \n",
    "        \n",
    "\n",
    "if __name__ == '__main__':\n",
    "    main()"
   ]
  },
  {
   "cell_type": "code",
   "execution_count": null,
   "metadata": {},
   "outputs": [],
   "source": []
  },
  {
   "cell_type": "code",
   "execution_count": null,
   "metadata": {},
   "outputs": [],
   "source": []
  },
  {
   "cell_type": "code",
   "execution_count": null,
   "metadata": {},
   "outputs": [],
   "source": []
  },
  {
   "cell_type": "code",
   "execution_count": null,
   "metadata": {},
   "outputs": [],
   "source": []
  },
  {
   "cell_type": "code",
   "execution_count": null,
   "metadata": {},
   "outputs": [],
   "source": []
  },
  {
   "cell_type": "code",
   "execution_count": null,
   "metadata": {},
   "outputs": [],
   "source": []
  },
  {
   "cell_type": "code",
   "execution_count": null,
   "metadata": {},
   "outputs": [],
   "source": []
  },
  {
   "cell_type": "code",
   "execution_count": null,
   "metadata": {},
   "outputs": [],
   "source": []
  },
  {
   "cell_type": "code",
   "execution_count": null,
   "metadata": {},
   "outputs": [],
   "source": []
  },
  {
   "cell_type": "code",
   "execution_count": null,
   "metadata": {},
   "outputs": [],
   "source": []
  },
  {
   "cell_type": "code",
   "execution_count": null,
   "metadata": {},
   "outputs": [],
   "source": []
  },
  {
   "cell_type": "code",
   "execution_count": null,
   "metadata": {},
   "outputs": [],
   "source": []
  }
 ],
 "metadata": {
  "kernelspec": {
   "display_name": "Python 3",
   "language": "python",
   "name": "python3"
  },
  "language_info": {
   "codemirror_mode": {
    "name": "ipython",
    "version": 3
   },
   "file_extension": ".py",
   "mimetype": "text/x-python",
   "name": "python",
   "nbconvert_exporter": "python",
   "pygments_lexer": "ipython3",
   "version": "3.7.4"
  }
 },
 "nbformat": 4,
 "nbformat_minor": 2
}
