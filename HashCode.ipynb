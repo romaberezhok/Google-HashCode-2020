{
 "cells": [
  {
   "cell_type": "code",
   "execution_count": 1,
   "metadata": {},
   "outputs": [],
   "source": [
    "import numpy as np"
   ]
  },
  {
   "cell_type": "code",
   "execution_count": 2,
   "metadata": {},
   "outputs": [],
   "source": [
    "class Library:\n",
    "    \n",
    "    \n",
    "    def __init__(self, books_num, sign_up, per_day, books_id):\n",
    "        self.books_num = books_num\n",
    "        self.sign_up = sign_up\n",
    "        self.per_day = per_day\n",
    "        self.books_id = books_id\n",
    "        \n",
    "    def set_books_to_scan(self, amount):\n",
    "        self.books_to_scan = self.books_id[:amount]\n",
    "    \n",
    "    def remove_scanned_books(self, scanned_books):\n",
    "        for idx in self.books_id:\n",
    "            if idx in scanned_books:\n",
    "                self.books_id.remove(idx)"
   ]
  },
  {
   "cell_type": "code",
   "execution_count": 3,
   "metadata": {},
   "outputs": [],
   "source": [
    "def read_file(name):\n",
    "    global SCORES, DEADLINE\n",
    "    with open(name) as f:\n",
    "        books_num, libraries, DEADLINE = read_line(f)\n",
    "        SCORES = read_line(f)\n",
    "    \n",
    "        for i in range(libraries):\n",
    "            lib_books, sign_up, per_day = read_line(f)\n",
    "            books_id = read_line(f)\n",
    "            ALL_IDS.update(set(books_id))\n",
    "\n",
    "            library = Library(lib_books, sign_up, per_day, books_id)\n",
    "            LIBRARIES.append(library)"
   ]
  },
  {
   "cell_type": "code",
   "execution_count": 4,
   "metadata": {},
   "outputs": [],
   "source": [
    "def read_line(f):\n",
    "    values = [int(el) for el in f.readline().strip().split(' ')]\n",
    "    return values"
   ]
  },
  {
   "cell_type": "code",
   "execution_count": 5,
   "metadata": {},
   "outputs": [],
   "source": [
    "def sort_id():\n",
    "    global ALL_IDS\n",
    "    ALL_IDS = sorted(list(ALL_IDS))\n",
    "    sort_ids_by_scores()"
   ]
  },
  {
   "cell_type": "code",
   "execution_count": 6,
   "metadata": {},
   "outputs": [],
   "source": [
    "def sort_ids_by_scores():\n",
    "    for library in LIBRARIES:\n",
    "        library.books_id = sorted(library.books_id, key=lambda x: SCORES[ALL_IDS.index(x)])"
   ]
  },
  {
   "cell_type": "code",
   "execution_count": 7,
   "metadata": {},
   "outputs": [],
   "source": [
    "def calc_max_scores(library):\n",
    "    capacity = (DEADLINE - library.sign_up) * library.per_day\n",
    "    if capacity <= 0:\n",
    "        return -1\n",
    "    \n",
    "    real_books_to_scan = min(capacity, library.books_num)\n",
    "    library.set_books_to_scan(real_books_to_scan)\n",
    "    \n",
    "    summ = 0\n",
    "    for book_id in library.books_to_scan:\n",
    "        summ += SCORES[ALL_IDS.index(book_id)]\n",
    "    \n",
    "    return summ"
   ]
  },
  {
   "cell_type": "code",
   "execution_count": 8,
   "metadata": {},
   "outputs": [],
   "source": [
    "def find_max_score_library_index(libraries):\n",
    "    summs = np.array([])\n",
    "    for library in libraries:\n",
    "        if library is None:\n",
    "            summs = np.append(summs, -1)\n",
    "            continue\n",
    "        summ = calc_max_scores(library)\n",
    "        summs = np.append(summs, summ)\n",
    "        \n",
    "    max_score_library_id = np.argmax(summs)\n",
    "    \n",
    "    if summs[max_score_library_id] == -1:\n",
    "        return -1\n",
    "    \n",
    "    return max_score_library_id "
   ]
  },
  {
   "cell_type": "code",
   "execution_count": 9,
   "metadata": {},
   "outputs": [],
   "source": [
    "def add_library_result_to_submission(library_id):\n",
    "    global SUBMISSION\n",
    "    books_id = [str(i) for i in LIBRARIES[library_id].books_to_scan]\n",
    "    result = '{} {}\\n{}\\n'.format(library_id, len(LIBRARIES[library_id].books_to_scan), ' '.join(books_id))        \n",
    "    SUBMISSION = result"
   ]
  },
  {
   "cell_type": "code",
   "execution_count": 10,
   "metadata": {},
   "outputs": [],
   "source": [
    "def remove_scanned_books(scanned_books):\n",
    "    for library in LIBRARIES:\n",
    "        if library is None:\n",
    "            continue\n",
    "        library.remove_scanned_books(scanned_books)"
   ]
  },
  {
   "cell_type": "code",
   "execution_count": 11,
   "metadata": {},
   "outputs": [],
   "source": [
    "def decrease_deadline(library_id):\n",
    "    global DEADLINE\n",
    "    DEADLINE -= LIBRARIES[library_id].sign_up "
   ]
  },
  {
   "cell_type": "code",
   "execution_count": 12,
   "metadata": {},
   "outputs": [],
   "source": [
    "def remove_used_library(library_id):\n",
    "    LIBRARIES[library_id] = None"
   ]
  },
  {
   "cell_type": "code",
   "execution_count": 13,
   "metadata": {},
   "outputs": [],
   "source": [
    "def write_submission_to_file(name):\n",
    "    with open(name, mode='a') as f:\n",
    "        f.write(SUBMISSION)"
   ]
  },
  {
   "cell_type": "code",
   "execution_count": 14,
   "metadata": {},
   "outputs": [],
   "source": [
    "def add_counter_to_submission(name, counter):\n",
    "    with open(name, mode='r+') as f:\n",
    "        file = f.read()\n",
    "        f.seek(0)\n",
    "        f.write(f'{counter}\\n' + file)"
   ]
  },
  {
   "cell_type": "code",
   "execution_count": null,
   "metadata": {},
   "outputs": [
    {
     "name": "stdout",
     "output_type": "stream",
     "text": [
      "Library 1532 has been scanned! 1\n",
      "Library 1359 has been scanned! 2\n",
      "Library 1959 has been scanned! 3\n",
      "Library 1404 has been scanned! 4\n",
      "Library 7339 has been scanned! 5\n",
      "Library 9817 has been scanned! 6\n",
      "Library 3222 has been scanned! 7\n",
      "Library 1485 has been scanned! 8\n",
      "Library 4646 has been scanned! 9\n",
      "Library 440 has been scanned! 10\n",
      "Library 8838 has been scanned! 11\n",
      "Library 9655 has been scanned! 12\n",
      "Library 3376 has been scanned! 13\n",
      "Library 9990 has been scanned! 14\n",
      "Library 1323 has been scanned! 15\n",
      "Library 2794 has been scanned! 16\n",
      "Library 6468 has been scanned! 17\n",
      "Library 9951 has been scanned! 18\n",
      "Library 6416 has been scanned! 19\n",
      "Library 2885 has been scanned! 20\n",
      "Library 3237 has been scanned! 21\n"
     ]
    }
   ],
   "source": [
    "LIBRARIES = []\n",
    "SCORES = []\n",
    "ALL_IDS = set()\n",
    "DEADLINE = None\n",
    "SUBMISSION = ''\n",
    "   \n",
    "\n",
    "def main():\n",
    "    counter = 0\n",
    "    file_name = 'c_incunabula.txt'\n",
    "    submission_name = 'c_submission.txt'\n",
    "    \n",
    "    read_file(file_name)\n",
    "    sort_id()\n",
    "    \n",
    "    while DEADLINE > 0 and len(set(LIBRARIES)) != 1:\n",
    "        max_score_id = find_max_score_library_index(LIBRARIES)\n",
    "        if max_score_id == -1:\n",
    "            break\n",
    "        add_library_result_to_submission(max_score_id)\n",
    "        write_submission_to_file(submission_name)\n",
    "        remove_scanned_books(LIBRARIES[max_score_id].books_to_scan)\n",
    "        decrease_deadline(max_score_id)\n",
    "        remove_used_library(max_score_id)\n",
    "        counter += 1\n",
    "        \n",
    "        print(f'Library {max_score_id} has been scanned! {counter}')\n",
    "    \n",
    "    add_counter_to_submission(submission_name, counter)\n",
    "        \n",
    "        \n",
    "\n",
    "if __name__ == '__main__':\n",
    "    main()"
   ]
  }
 ],
 "metadata": {
  "kernelspec": {
   "display_name": "Python 3",
   "language": "python",
   "name": "python3"
  },
  "language_info": {
   "codemirror_mode": {
    "name": "ipython",
    "version": 3
   },
   "file_extension": ".py",
   "mimetype": "text/x-python",
   "name": "python",
   "nbconvert_exporter": "python",
   "pygments_lexer": "ipython3",
   "version": "3.7.4"
  }
 },
 "nbformat": 4,
 "nbformat_minor": 2
}
