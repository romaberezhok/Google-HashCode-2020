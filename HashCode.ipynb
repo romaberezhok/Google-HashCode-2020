{
 "cells": [
  {
   "cell_type": "markdown",
   "metadata": {},
   "source": [
    "#### Define a class"
   ]
  },
  {
   "cell_type": "code",
   "execution_count": 1,
   "metadata": {},
   "outputs": [],
   "source": [
    "class Library:\n",
    "    def __init__(self, books_num, sign_up, per_day, books_id):\n",
    "        self.books_num = books_num\n",
    "        self.sign_up = sign_up\n",
    "        self.per_day = per_day\n",
    "        self.books_id = books_id"
   ]
  },
  {
   "cell_type": "markdown",
   "metadata": {},
   "source": [
    "#### Read data"
   ]
  },
  {
   "cell_type": "code",
   "execution_count": 2,
   "metadata": {},
   "outputs": [],
   "source": [
    "def read_line(f):\n",
    "    values = [int(el) for el in f.readline().strip().split(' ')]\n",
    "    return values"
   ]
  },
  {
   "cell_type": "code",
   "execution_count": null,
   "metadata": {},
   "outputs": [],
   "source": [
    "def sort_ids_by_scores():\n",
    "    for library in LIBRARIES:\n",
    "        library.books_id = sorted(library.books_id, key=lambda x: SCORES[ALL_IDS.index(x)])"
   ]
  },
  {
   "cell_type": "code",
   "execution_count": 7,
   "metadata": {},
   "outputs": [],
   "source": [
    "LIBRARIES = []\n",
    "SCORES = []\n",
    "ALL_IDS = set()\n",
    "DEADLINE = None\n",
    "\n",
    "with open('a_example.txt') as f:\n",
    "    books_num, libraries, DEADLINE = read_line(f)\n",
    "    SCORES = read_line(f)\n",
    "    \n",
    "    for i in range(libraries):\n",
    "        lib_books, sign_up, per_day = read_line(f)\n",
    "        books_id = read_line(f)\n",
    "        ALL_IDS.update(set(books_id))\n",
    "        \n",
    "        library = Library(lib_books, sign_up, per_day, books_id)\n",
    "        LIBRARIES.append(library)\n",
    "        \n",
    "ALL_IDS = sorted(list(ALL_IDS))\n",
    "sort_ids_by_scores()"
   ]
  },
  {
   "cell_type": "code",
   "execution_count": 14,
   "metadata": {},
   "outputs": [],
   "source": []
  },
  {
   "cell_type": "code",
   "execution_count": 15,
   "metadata": {},
   "outputs": [
    {
     "name": "stdout",
     "output_type": "stream",
     "text": [
      "[0, 1, 2, 3, 4, 5]\n"
     ]
    }
   ],
   "source": [
    "print(ALL_IDS)"
   ]
  },
  {
   "cell_type": "code",
   "execution_count": 16,
   "metadata": {},
   "outputs": [
    {
     "data": {
      "text/plain": [
       "[1, 2, 3, 6, 5, 4]"
      ]
     },
     "execution_count": 16,
     "metadata": {},
     "output_type": "execute_result"
    }
   ],
   "source": [
    "SCORES"
   ]
  },
  {
   "cell_type": "code",
   "execution_count": 18,
   "metadata": {},
   "outputs": [],
   "source": [
    "def calc_max_scores(library):\n",
    "    capacity = (DEADLINE - library.sign_up) * library.per_day\n",
    "    real_books_to_scan = min(capacity, library.books_num)\n",
    "    books_to_calc = library.books_id[:real_books_to_scan]\n",
    "    \n",
    "    summ = 0\n",
    "    for book_id in books_to_calc:\n",
    "        summ += SCORES[ALL_IDS.index(book_id)]\n",
    "    \n",
    "    return summ\n",
    "    \n",
    "    \n",
    "    \n",
    "    \n",
    "    \n",
    "    \n",
    "    \n",
    "    \n",
    "    \n",
    "    \n",
    "    \n",
    "    \n",
    "    \n",
    "    "
   ]
  },
  {
   "cell_type": "code",
   "execution_count": 54,
   "metadata": {},
   "outputs": [],
   "source": [
    "sums = max_sums(LIBRARIES)"
   ]
  },
  {
   "cell_type": "code",
   "execution_count": 63,
   "metadata": {},
   "outputs": [],
   "source": []
  },
  {
   "cell_type": "code",
   "execution_count": 17,
   "metadata": {},
   "outputs": [
    {
     "data": {
      "text/plain": [
       "3"
      ]
     },
     "execution_count": 17,
     "metadata": {},
     "output_type": "execute_result"
    }
   ],
   "source": [
    "min(3, 4)"
   ]
  },
  {
   "cell_type": "code",
   "execution_count": 19,
   "metadata": {},
   "outputs": [],
   "source": []
  },
  {
   "cell_type": "code",
   "execution_count": null,
   "metadata": {},
   "outputs": [],
   "source": []
  }
 ],
 "metadata": {
  "kernelspec": {
   "display_name": "Python 3",
   "language": "python",
   "name": "python3"
  },
  "language_info": {
   "codemirror_mode": {
    "name": "ipython",
    "version": 3
   },
   "file_extension": ".py",
   "mimetype": "text/x-python",
   "name": "python",
   "nbconvert_exporter": "python",
   "pygments_lexer": "ipython3",
   "version": "3.7.4"
  }
 },
 "nbformat": 4,
 "nbformat_minor": 2
}
